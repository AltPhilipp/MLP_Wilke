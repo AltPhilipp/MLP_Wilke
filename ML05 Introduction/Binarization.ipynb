{
 "cells": [
  {
   "metadata": {},
   "cell_type": "markdown",
   "source": "Binarization",
   "id": "edba86a7b95eb554"
  },
  {
   "metadata": {
    "ExecuteTime": {
     "end_time": "2024-11-14T09:42:22.128879Z",
     "start_time": "2024-11-14T09:42:21.587726Z"
    }
   },
   "cell_type": "code",
   "source": [
    "# Cell 1 - Import Libraries and Load Data\n",
    "import pandas as pd\n",
    "\n",
    "# Load the census data set. Note: The 'census.data' file should be downloaded and located in the specified directory.\n",
    "data = pd.read_csv('../Data/census.data', header=None, index_col=False,\n",
    "                   names=['age', 'workclass', 'fnlwgt', 'education', 'education-num', \n",
    "                          'marital-status', 'occupation', 'relationship', 'race', 'gender', \n",
    "                          'capital-gain', 'capital-loss', 'hours-per-week', 'native-country', 'income'])\n",
    "\n",
    "# Confirm the data type is DataFrame\n",
    "print(\"Data Type:\", type(data))\n"
   ],
   "id": "99b8f292bd667164",
   "outputs": [
    {
     "name": "stdout",
     "output_type": "stream",
     "text": [
      "Data Type: <class 'pandas.core.frame.DataFrame'>\n"
     ]
    }
   ],
   "execution_count": 1
  },
  {
   "metadata": {
    "ExecuteTime": {
     "end_time": "2024-11-14T09:42:46.838918Z",
     "start_time": "2024-11-14T09:42:46.832812Z"
    }
   },
   "cell_type": "code",
   "source": [
    "# Cell 2 - Select Subset of Variables\n",
    "# Select a subset of 4 variables: 'age', 'workclass', 'gender', 'income'\n",
    "my_data = data[['age', 'workclass', 'gender', 'income']]\n",
    "print(\"Selected Data Subset:\\n\", my_data.head())\n"
   ],
   "id": "551d7d583254cde0",
   "outputs": [
    {
     "name": "stdout",
     "output_type": "stream",
     "text": [
      "Selected Data Subset:\n",
      "    age          workclass   gender  income\n",
      "0   39          State-gov     Male   <=50K\n",
      "1   50   Self-emp-not-inc     Male   <=50K\n",
      "2   38            Private     Male   <=50K\n",
      "3   53            Private     Male   <=50K\n",
      "4   28            Private   Female   <=50K\n"
     ]
    }
   ],
   "execution_count": 2
  },
  {
   "metadata": {
    "ExecuteTime": {
     "end_time": "2024-11-14T09:46:51.068512Z",
     "start_time": "2024-11-14T09:46:51.057297Z"
    }
   },
   "cell_type": "code",
   "source": [
    "# Cell 3 - Check Data Types of the Selected Variables\n",
    "# Display data types and structure of the selected subset\n",
    "print(\"Data Types of the Selected Variables:\")\n",
    "my_data.info()\n"
   ],
   "id": "3119e3966adf9d93",
   "outputs": [
    {
     "name": "stdout",
     "output_type": "stream",
     "text": [
      "Data Types of the Selected Variables:\n",
      "<class 'pandas.core.frame.DataFrame'>\n",
      "RangeIndex: 32561 entries, 0 to 32560\n",
      "Data columns (total 4 columns):\n",
      " #   Column     Non-Null Count  Dtype \n",
      "---  ------     --------------  ----- \n",
      " 0   age        32561 non-null  int64 \n",
      " 1   workclass  32561 non-null  object\n",
      " 2   gender     32561 non-null  object\n",
      " 3   income     32561 non-null  object\n",
      "dtypes: int64(1), object(3)\n",
      "memory usage: 1017.7+ KB\n"
     ]
    }
   ],
   "execution_count": 4
  },
  {
   "metadata": {},
   "cell_type": "code",
   "outputs": [],
   "execution_count": null,
   "source": [
    "# Cell 4 - Display Summary Statistics for Numeric Variables\n",
    "# Display summary statistics for the numeric columns\n",
    "print(\"Summary Statistics for Numeric Variables:\")\n",
    "print(my_data.describe())\n"
   ],
   "id": "8005938fc7e01bca"
  },
  {
   "metadata": {},
   "cell_type": "code",
   "outputs": [],
   "execution_count": null,
   "source": [
    "# Cell 5 - Display Summary Including Categorical Variables\n",
    "# Display summary statistics for all columns, including categorical variables\n",
    "print(\"Summary Statistics Including Categorical Variables:\")\n",
    "print(my_data.describe(include='all'))\n"
   ],
   "id": "e89f7db50f785bdf"
  },
  {
   "metadata": {
    "ExecuteTime": {
     "end_time": "2024-11-14T09:42:59.565191Z",
     "start_time": "2024-11-14T09:42:59.557562Z"
    }
   },
   "cell_type": "code",
   "source": [
    "# Cell 6 - Display Unique Values in Categorical Variables\n",
    "# Print the unique values for 'workclass', 'gender', and 'income'\n",
    "print(\"Unique values in 'workclass':\", my_data['workclass'].unique())\n",
    "print(\"Unique values in 'gender':\", my_data['gender'].unique())\n",
    "print(\"Unique values in 'income':\", my_data['income'].unique())\n"
   ],
   "id": "75cf5f3ccdf4a47f",
   "outputs": [
    {
     "name": "stdout",
     "output_type": "stream",
     "text": [
      "Unique values in 'workclass': [' State-gov' ' Self-emp-not-inc' ' Private' ' Federal-gov' ' Local-gov'\n",
      " ' ?' ' Self-emp-inc' ' Without-pay' ' Never-worked']\n",
      "Unique values in 'gender': [' Male' ' Female']\n",
      "Unique values in 'income': [' <=50K' ' >50K']\n"
     ]
    }
   ],
   "execution_count": 3
  },
  {
   "metadata": {
    "ExecuteTime": {
     "end_time": "2024-11-14T09:46:57.869040Z",
     "start_time": "2024-11-14T09:46:57.849934Z"
    }
   },
   "cell_type": "code",
   "source": [
    "# Cell 7 - Binarize (One-Hot Encode) Categorical Variables\n",
    "# Use pd.get_dummies() to binarize categorical variables in my_data\n",
    "my_data_num = pd.get_dummies(my_data)\n",
    "\n",
    "# Display the structure of the transformed DataFrame\n",
    "print(\"Transformed Data Frame with Dummy Variables:\")\n",
    "my_data_num.info()\n"
   ],
   "id": "8dbc03f8ebb2ab58",
   "outputs": [
    {
     "name": "stdout",
     "output_type": "stream",
     "text": [
      "Transformed Data Frame with Dummy Variables:\n",
      "<class 'pandas.core.frame.DataFrame'>\n",
      "RangeIndex: 32561 entries, 0 to 32560\n",
      "Data columns (total 14 columns):\n",
      " #   Column                       Non-Null Count  Dtype\n",
      "---  ------                       --------------  -----\n",
      " 0   age                          32561 non-null  int64\n",
      " 1   workclass_ ?                 32561 non-null  bool \n",
      " 2   workclass_ Federal-gov       32561 non-null  bool \n",
      " 3   workclass_ Local-gov         32561 non-null  bool \n",
      " 4   workclass_ Never-worked      32561 non-null  bool \n",
      " 5   workclass_ Private           32561 non-null  bool \n",
      " 6   workclass_ Self-emp-inc      32561 non-null  bool \n",
      " 7   workclass_ Self-emp-not-inc  32561 non-null  bool \n",
      " 8   workclass_ State-gov         32561 non-null  bool \n",
      " 9   workclass_ Without-pay       32561 non-null  bool \n",
      " 10  gender_ Female               32561 non-null  bool \n",
      " 11  gender_ Male                 32561 non-null  bool \n",
      " 12  income_ <=50K                32561 non-null  bool \n",
      " 13  income_ >50K                 32561 non-null  bool \n",
      "dtypes: bool(13), int64(1)\n",
      "memory usage: 667.9 KB\n"
     ]
    }
   ],
   "execution_count": 5
  },
  {
   "metadata": {},
   "cell_type": "code",
   "outputs": [],
   "execution_count": null,
   "source": [
    "# Cell 8 - Double-Check Transformation Results\n",
    "# Inspect the new dummy variables and verify transformation\n",
    "print(\"Inspection of Transformed Data Frame:\")\n",
    "my_data_num.info()\n",
    "\n",
    "# Display unique values before transformation for comparison\n",
    "print(\"Summary Including Categorical Variables (Original):\")\n",
    "print(my_data.describe(include='all'))\n",
    "print(\"Unique values in 'workclass' (Original):\", my_data['workclass'].unique())\n",
    "print(\"Unique values in 'gender' (Original):\", my_data['gender'].unique())\n",
    "print(\"Unique values in 'income' (Original):\", my_data['income'].unique())\n"
   ],
   "id": "e785a83b235531b4"
  }
 ],
 "metadata": {
  "kernelspec": {
   "display_name": "Python 3",
   "language": "python",
   "name": "python3"
  },
  "language_info": {
   "codemirror_mode": {
    "name": "ipython",
    "version": 2
   },
   "file_extension": ".py",
   "mimetype": "text/x-python",
   "name": "python",
   "nbconvert_exporter": "python",
   "pygments_lexer": "ipython2",
   "version": "2.7.6"
  }
 },
 "nbformat": 4,
 "nbformat_minor": 5
}
