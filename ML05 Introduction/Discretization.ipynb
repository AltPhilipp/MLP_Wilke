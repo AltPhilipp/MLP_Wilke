{
 "cells": [
  {
   "metadata": {},
   "cell_type": "markdown",
   "source": "Discretization",
   "id": "895c9ee3d4206db"
  },
  {
   "metadata": {
    "ExecuteTime": {
     "end_time": "2024-11-14T09:57:49.254221Z",
     "start_time": "2024-11-14T09:57:48.181823Z"
    }
   },
   "cell_type": "code",
   "source": [
    "import sklearn.datasets as ds\n",
    "import sklearn.preprocessing as pre\n",
    "import pandas as pd\n",
    "\n",
    "\n",
    "##### Generate a synthetic data set\n",
    "\n",
    "# ds.make_classification() generates a synthetic data for a classification task\n",
    "#   - n_samples = 10 data objects (rows)\n",
    "#   - n_features = 3 features (columns)\n",
    "#   - n_redudandant = 0 (no features should be redundant, e.g., shouldn't repeat a number)\n",
    "#   - n_classes = 2 (the target variable should have 2 classes)\n",
    "#   - The function returns the input features X and the target variable y as matrices.\n",
    "X, y = ds.make_classification(n_samples=10, n_features=3, n_redundant=0, n_classes=2)"
   ],
   "id": "d80d84ee9a56c4b5",
   "outputs": [],
   "execution_count": 1
  },
  {
   "metadata": {
    "ExecuteTime": {
     "end_time": "2024-11-14T09:57:56.156212Z",
     "start_time": "2024-11-14T09:57:56.152155Z"
    }
   },
   "cell_type": "code",
   "source": [
    "# Print the input feature X\n",
    "print(X)\n",
    "print(y) # This is a 1-D vector. Row vector. You have to kinda flit it and read it from top to bottom. You know what I mean. Classic Vector Notation\n"
   ],
   "id": "a4f26eb154b7c3cc",
   "outputs": [
    {
     "name": "stdout",
     "output_type": "stream",
     "text": [
      "[[-1.31052477  1.23216817  2.06710146]\n",
      " [ 0.690775   -1.45231791 -0.71977971]\n",
      " [ 0.07999455 -1.48120813 -0.54973229]\n",
      " [ 1.35113191  0.92269922  0.24769704]\n",
      " [ 0.52201864  1.3824162  -1.23908557]\n",
      " [-0.83868029 -1.22070972  2.02198089]\n",
      " [-1.87530192  1.89870344 -2.07542685]\n",
      " [ 1.26600403 -0.82558901 -1.32058733]\n",
      " [-0.88849825 -0.82111895  0.22266962]\n",
      " [-1.40298476  1.38543511  0.74887052]]\n",
      "[1 0 0 1 1 0 1 0 0 1]\n"
     ]
    }
   ],
   "execution_count": 2
  },
  {
   "metadata": {
    "ExecuteTime": {
     "end_time": "2024-11-14T09:59:29.873584Z",
     "start_time": "2024-11-14T09:59:29.867339Z"
    }
   },
   "cell_type": "code",
   "source": [
    "# X and y are numpy arrays\n",
    "type(X)\n",
    "type(y)\n"
   ],
   "id": "b0a01b7cc85e0787",
   "outputs": [
    {
     "data": {
      "text/plain": [
       "numpy.ndarray"
      ]
     },
     "execution_count": 3,
     "metadata": {},
     "output_type": "execute_result"
    }
   ],
   "execution_count": 3
  },
  {
   "metadata": {
    "ExecuteTime": {
     "end_time": "2024-11-14T09:59:35.814114Z",
     "start_time": "2024-11-14T09:59:35.809477Z"
    }
   },
   "cell_type": "code",
   "source": [
    "# The underlying data types are numerical (float64)\n",
    "X.dtype\n",
    "y.dtype"
   ],
   "id": "fc0f12384bc0c932",
   "outputs": [
    {
     "data": {
      "text/plain": [
       "dtype('int64')"
      ]
     },
     "execution_count": 4,
     "metadata": {},
     "output_type": "execute_result"
    }
   ],
   "execution_count": 4
  },
  {
   "metadata": {
    "ExecuteTime": {
     "end_time": "2024-11-14T10:20:24.140791Z",
     "start_time": "2024-11-14T10:20:24.134164Z"
    }
   },
   "cell_type": "code",
   "source": [
    "##### Equal Width Binning\n",
    "\n",
    "# We use pre.KBinsDiscretizer()\n",
    "#\n",
    "#   The \"initialize-fit-transform\" process\n",
    "#       In scikit-learn, the process of data preprocessing often involves a sequence of steps\n",
    "#       that can be summarized as \"initialize-fit-transform\". This sequence is commonly used\n",
    "#       with various preprocessing classes, such as scalers, encoders, and transformers.\n",
    "#\n",
    "#   1. Initialize\n",
    "#       Create an instance of the KBinsDiscretizer() class by specifying the parameters:\n",
    "#       - n_bins = 3 (we want to have 3 intervals/bin)\n",
    "#       - strategy = 'uniform' (we want to use Equal Width Binning) -> same bin width (e.g., 0-10, 10-20, ...)\n",
    "#       - encode = 'ordinal' (the interval identifiers are encoded as integer values)\n",
    "#       - This results in 4 bin edges (edges = bins + 1)\n",
    "ewb = pre.KBinsDiscretizer(n_bins=3, strategy='uniform', encode='ordinal')\n",
    "#\n",
    "#   2. Fit\n",
    "#       Calculate the bin edges based on the specified number of bins (3) and the strategy used ('uniform').\n",
    "#       The bin edges are stored in the attribute 'bin_edges_' of 'ewb'.\n",
    "ewb.fit(X)\n",
    "print(ewb.bin_edges_)\n",
    "#       For each of the 3 features, we get 4 bin edges (thus 3 bins)\n",
    "#       Remember that we stored 3 features in X - ewb.fit() was applied to each of them separately.\n",
    "#\n",
    "#   3. Transform\n",
    "#       Maps the original numerical values to the corresponding bins.\n",
    "X_ewb = ewb.transform(X)\n",
    "\n",
    "print(X_ewb)"
   ],
   "id": "c034577ecfda97d8",
   "outputs": [
    {
     "name": "stdout",
     "output_type": "stream",
     "text": [
      "[array([-1.87530192, -0.79982398,  0.27565397,  1.35113191])\n",
      " array([-1.48120813, -0.35457094,  0.77206625,  1.89870344])\n",
      " array([-2.07542685, -0.69458408,  0.68625869,  2.06710146])]\n",
      "[[0. 2. 2.]\n",
      " [2. 0. 0.]\n",
      " [1. 0. 1.]\n",
      " [2. 2. 1.]\n",
      " [2. 2. 0.]\n",
      " [0. 0. 2.]\n",
      " [0. 2. 0.]\n",
      " [2. 0. 0.]\n",
      " [0. 0. 1.]\n",
      " [0. 2. 2.]]\n"
     ]
    }
   ],
   "execution_count": 7
  },
  {
   "metadata": {
    "ExecuteTime": {
     "end_time": "2024-11-14T10:20:53.811230Z",
     "start_time": "2024-11-14T10:20:53.806639Z"
    }
   },
   "cell_type": "code",
   "source": [
    "##### Equal Frequency Binning\n",
    "#   To use it, we must again follow the \"initialize-fit-transform\" process.\n",
    "#\n",
    "#   1. Initialize\n",
    "#       Create an instance of the KBinsDiscretizer() class by specifying the parameters:\n",
    "#       - n_bins = 3 (we want to have 3 intervals/bin)\n",
    "#       - strategy = 'quantile' (we want Equal Frequency Binning now) -> same amount of observations in bins\n",
    "#       - encode = 'ordinal' (the interval identifiers are encoded as an integer values, enumerate them)\n",
    "efb = pre.KBinsDiscretizer(n_bins=3, strategy='quantile', encode='ordinal')\n",
    "#\n",
    "#   2. Fit\n",
    "#       Calculate the bin edges.\n",
    "efb.fit(X)\n",
    "print(efb.bin_edges_)\n",
    "#   3. Transform\n",
    "#       Map the values accordingly.\n",
    "X_efb = efb.transform(X)\n",
    "\n",
    "print(X_efb)"
   ],
   "id": "2752131cefbd3017",
   "outputs": [
    {
     "name": "stdout",
     "output_type": "stream",
     "text": [
      "[array([-1.87530192, -0.88849825,  0.52201864,  1.35113191])\n",
      " array([-1.48120813, -0.82558901,  1.23216817,  1.89870344])\n",
      " array([-2.07542685, -0.71977971,  0.24769704,  2.06710146])]\n",
      "[[0. 1. 2.]\n",
      " [2. 0. 0.]\n",
      " [1. 0. 1.]\n",
      " [2. 1. 1.]\n",
      " [1. 2. 0.]\n",
      " [1. 0. 2.]\n",
      " [0. 2. 0.]\n",
      " [2. 1. 0.]\n",
      " [1. 1. 1.]\n",
      " [0. 2. 2.]]\n"
     ]
    }
   ],
   "execution_count": 8
  },
  {
   "metadata": {},
   "cell_type": "code",
   "outputs": [],
   "execution_count": null,
   "source": [
    "##### Are the results on a categorical scale?\n",
    "\n",
    "\n",
    "# The KBinsDiscretizer encodes the bin identifiers as floats 0.,1.,2.:\n",
    "type(X_ewb) # numpy.ndarray\n",
    "X_ewb.dtype # dtype('float64')\n",
    "# This means that the data type is still numerical.\n",
    "# The KBins*Discretizer* only *discretizes* the numerical values, it does not make them categorical!\n",
    "\n",
    "# Note:\n",
    "#   - Discrete variables with a numerical data type can be both, categorical scale or numerical scale!\n",
    "#   - Which of them applies depends on the semantic of the attributes, because the semantic tells us\n",
    "#     which mathematical operations make sense.\n",
    "#   - Example: 'age'\n",
    "#       - The data type of 'age' (measured in years) is integer, thus numerical.\n",
    "#       - The scale level of 'age' is ratio, because it makes sense to calculate age differences and fractions.\n",
    "#         Thus, the scale level is also numerical.\n",
    "#       - Both, data type and scale level are numerical.\n",
    "#   - Example: 'age class (EWB)'\n",
    "#       - Assume we have 10 age classes of equal length.\n",
    "#       - Assume the classes are encoded as integers: 1 = [1,10], 2 = [11,20], 3 = [21-30], ..., 10=[91,100]\n",
    "#       - The data type of 'age class (EWB)' is integer, thus numerical.\n",
    "#       - The scale level of 'age class (EWB)' is interval, because it makes sense calculate differences of age classes.\n",
    "#         Thus, the scale level is also numerical.\n",
    "#       - Both, data type and scale level are numerical.\n",
    "#   - Example: 'age class (EFB)'\n",
    "#       - Assume we have 4 age classes of equal frequency and unequal length.\n",
    "#       - Assume the classes are encoded as integers: 1 = [1,20], 2 = [21,25], 3 = [25-30], 4=[41-100].\n",
    "#       - The data type of 'age class (EFB)' is integer, thus numerical.\n",
    "#       - The scale level of 'age class (EFB)' is ordinal: it does NOT make sense to calculate differences of age classes,\n",
    "#         but it makes sense to put them into the above order.\n",
    "#         Thus, the scale level is categorical.\n",
    "#       - The data type is numerical while the scale level is numerical.\n",
    "\n",
    "# Important note:\n",
    "#   - Algorithms cannot know the semantic of attributes. Thus, they infer the scale level from the data type.\n",
    "#   - If scale level and data type don't match, you might get nonsensical results!"
   ],
   "id": "92c2076451e07974"
  },
  {
   "metadata": {
    "ExecuteTime": {
     "end_time": "2024-11-14T10:28:21.265830Z",
     "start_time": "2024-11-14T10:28:21.257668Z"
    }
   },
   "cell_type": "code",
   "source": [
    "##### How to make sure an algorithm infers a categorical scale after discretization?\n",
    "\n",
    "# To achieve this, we can convert the bin identifiers to string:\n",
    "X_ewb_cat = X_ewb.astype(str)\n",
    "\n",
    "# If we want nicer strings, we can first convert to integer, then to string:\n",
    "X_ewb_cat = X_ewb.astype(int).astype(str)\n",
    "\n",
    "# If we need a date frame, we can convert the ndarray to DataFrame using the method .DataFrame() from pandas:\n",
    "X_ewb_cat_df = pd.DataFrame(X_ewb_cat)\n",
    "\n",
    "# Did it work?\n",
    "type(X_ewb_cat_df) # It's indeed a data frame now\n",
    "X_ewb_cat_df.info() # All features are categorical ('object')"
   ],
   "id": "9973fca129f4a2f9",
   "outputs": [
    {
     "name": "stdout",
     "output_type": "stream",
     "text": [
      "<class 'pandas.core.frame.DataFrame'>\n",
      "RangeIndex: 10 entries, 0 to 9\n",
      "Data columns (total 3 columns):\n",
      " #   Column  Non-Null Count  Dtype \n",
      "---  ------  --------------  ----- \n",
      " 0   0       10 non-null     object\n",
      " 1   1       10 non-null     object\n",
      " 2   2       10 non-null     object\n",
      "dtypes: object(3)\n",
      "memory usage: 372.0+ bytes\n"
     ]
    }
   ],
   "execution_count": 9
  },
  {
   "metadata": {},
   "cell_type": "code",
   "outputs": [],
   "execution_count": null,
   "source": [
    "# We can assign new bin labels\n",
    "    # Look up the old labels:\n",
    "X_ewb_cat_df[0].unique() # we only check feature 0, because we know that all features have the same bin labels\n",
    "    # Define a dictionary for mapping old values to new values:\n",
    "rename_mapping = {\n",
    "    '2': 'High',\n",
    "    '1': 'Meduim',\n",
    "    '0': 'Low'\n",
    "}\n",
    "    # Use the pandas method replace() to rename them:\n",
    "X_ewb_cat_df = X_ewb_cat_df.replace(rename_mapping)\n",
    "\n",
    "# We can also change the feature names\n",
    "X_ewb_cat_df.columns = [\"Temperature\", \"Income\", \"Mood\"]\n",
    "\n",
    "print(X_ewb_cat_df)"
   ],
   "id": "24ab3e29a6630d56"
  }
 ],
 "metadata": {
  "kernelspec": {
   "display_name": "Python 3",
   "language": "python",
   "name": "python3"
  },
  "language_info": {
   "codemirror_mode": {
    "name": "ipython",
    "version": 2
   },
   "file_extension": ".py",
   "mimetype": "text/x-python",
   "name": "python",
   "nbconvert_exporter": "python",
   "pygments_lexer": "ipython2",
   "version": "2.7.6"
  }
 },
 "nbformat": 4,
 "nbformat_minor": 5
}
